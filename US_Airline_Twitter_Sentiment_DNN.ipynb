{
 "cells": [
  {
   "cell_type": "markdown",
   "metadata": {},
   "source": [
    "# Twitter Sentiment Analysis Using CNN Model with Tensorflow & Keras!\n",
    "by Daniel Tsai & Phillip Bonarigo!"
   ]
  },
  {
   "cell_type": "markdown",
   "metadata": {},
   "source": [
    "# Import packages"
   ]
  },
  {
   "cell_type": "code",
   "execution_count": 1,
   "metadata": {},
   "outputs": [
    {
     "name": "stderr",
     "output_type": "stream",
     "text": [
      "Using TensorFlow backend.\n"
     ]
    },
    {
     "name": "stdout",
     "output_type": "stream",
     "text": [
      "1.13.1\n"
     ]
    }
   ],
   "source": [
    "import tensorflow as tf\n",
    "import keras\n",
    "from keras.models import Sequential\n",
    "from keras.layers import Dense\n",
    "from keras.models import load_model  # to load saved model\n",
    "import numpy as np\n",
    "from numpy import loadtxt    # load dataset\n",
    "import pandas as pd\n",
    "import sqlite3 as sql\n",
    "# from sklearn import metrics\n",
    "from sklearn.metrics import confusion_matrix\n",
    "from sklearn.feature_extraction.text import TfidfVectorizer\n",
    "tfidfvectorizer = TfidfVectorizer(encoding='utf-8',stop_words='english', analyzer='word', binary=False)\n",
    "import matplotlib.pyplot as plt\n",
    "\n",
    "\n",
    "print(tf.__version__) #prints version of tensorflow"
   ]
  },
  {
   "cell_type": "markdown",
   "metadata": {},
   "source": [
    "# Traing Parameters"
   ]
  },
  {
   "cell_type": "code",
   "execution_count": 2,
   "metadata": {},
   "outputs": [],
   "source": [
    "NUM_EPOCHS_BASELINE = 20\n",
    "NUM_BATCH_SIZE_BASELINE = 50\n",
    "NUM_EPOCHS_DPT = 20\n",
    "# NUM_WORDS = 12766\n"
   ]
  },
  {
   "cell_type": "markdown",
   "metadata": {},
   "source": [
    "# Twitter API credentias (please keep it secret)"
   ]
  },
  {
   "cell_type": "code",
   "execution_count": 3,
   "metadata": {},
   "outputs": [],
   "source": [
    "# we have removed the Twitter API keys but you can enter your own here\n",
    "\n",
    "consumer_key = 'ENTER KEY'\n",
    "consumer_secret = 'ENTER SECRET'\n",
    "access_token = 'ENTER TOKEN'\n",
    "access_token_secret = 'ENTER TOKEN'"
   ]
  },
  {
   "cell_type": "markdown",
   "metadata": {},
   "source": [
    "# Connect database"
   ]
  },
  {
   "cell_type": "code",
   "execution_count": 4,
   "metadata": {},
   "outputs": [],
   "source": [
    "# fix random seed for reproducibility\n",
    "np.random.seed(7)"
   ]
  },
  {
   "cell_type": "code",
   "execution_count": 5,
   "metadata": {},
   "outputs": [],
   "source": [
    "database = \"database.sqlite\"\n",
    "connection = sql.connect(database)\n",
    "query = '''SELECT * FROM Tweets'''\n",
    "df = pd.read_sql_query(query, connection)"
   ]
  },
  {
   "cell_type": "markdown",
   "metadata": {},
   "source": [
    "# Data Preparation (1) - One hot"
   ]
  },
  {
   "cell_type": "code",
   "execution_count": 6,
   "metadata": {},
   "outputs": [],
   "source": [
    "#One-hot encoding\n",
    "\n",
    "df['airline_sentiment'].replace('negative',0, inplace=True)\n",
    "df['airline_sentiment'].replace('neutral',1, inplace=True)\n",
    "df['airline_sentiment'].replace('positive',1, inplace=True)\n",
    "dataset = df.values # covert the pandas dataframe to numpy array\n"
   ]
  },
  {
   "cell_type": "markdown",
   "metadata": {},
   "source": [
    "# Data Preparation (2) - Split the dataset into traning set and validation set"
   ]
  },
  {
   "cell_type": "code",
   "execution_count": 7,
   "metadata": {},
   "outputs": [
    {
     "name": "stdout",
     "output_type": "stream",
     "text": [
      "12766\n"
     ]
    }
   ],
   "source": [
    "validation_split_ratio = 0.8\n",
    "validation_split = int(round(validation_split_ratio*dataset.shape[0],0))\n",
    "\n",
    "X_train = dataset[0:validation_split,10]\n",
    "X_train_vec = tfidfvectorizer.fit_transform(X_train)\n",
    "\n",
    "X_validation = dataset[validation_split:,10]\n",
    "X_validation_vec = tfidfvectorizer.transform(X_validation)\n",
    "\n",
    "# print(X_train_vec.shape[0])\n",
    "# print(X_train_vec.shape)\n",
    "\n",
    "Y_train = dataset[0:validation_split,1]\n",
    "Y_validation = dataset[validation_split:,1]\n",
    "NUM_WORDS = X_train_vec.shape[1]\n",
    "print(NUM_WORDS) #number of words in the dictionary\n"
   ]
  },
  {
   "cell_type": "code",
   "execution_count": 8,
   "metadata": {},
   "outputs": [],
   "source": [
    "## Create baseline model"
   ]
  },
  {
   "cell_type": "code",
   "execution_count": 9,
   "metadata": {},
   "outputs": [
    {
     "name": "stdout",
     "output_type": "stream",
     "text": [
      "WARNING:tensorflow:From C:\\Users\\philb\\AppData\\Roaming\\Python\\Python37\\site-packages\\tensorflow\\python\\framework\\op_def_library.py:263: colocate_with (from tensorflow.python.framework.ops) is deprecated and will be removed in a future version.\n",
      "Instructions for updating:\n",
      "Colocations handled automatically by placer.\n"
     ]
    }
   ],
   "source": [
    "# # create the base model\n",
    "\n",
    "baseline_model = Sequential()\n",
    "baseline_model.add(Dense(64, input_dim=NUM_WORDS, activation='relu'))\n",
    "baseline_model.add(Dense(64, activation='relu'))\n",
    "baseline_model.add(Dense(64, activation='relu'))\n",
    "# baseline_model.add(Dense(64, activation='relu'))\n",
    "# baseline_model.add(Dense(32, activation='relu'))\n",
    "baseline_model.add(Dense(1, activation='sigmoid'))"
   ]
  },
  {
   "cell_type": "code",
   "execution_count": 10,
   "metadata": {},
   "outputs": [],
   "source": [
    "# Compile the model\n",
    "baseline_model.compile(loss='binary_crossentropy', \n",
    "              optimizer='adam', \n",
    "              metrics=['accuracy', 'binary_crossentropy'])"
   ]
  },
  {
   "cell_type": "code",
   "execution_count": 11,
   "metadata": {},
   "outputs": [
    {
     "name": "stdout",
     "output_type": "stream",
     "text": [
      "WARNING:tensorflow:From C:\\Users\\philb\\AppData\\Roaming\\Python\\Python37\\site-packages\\tensorflow\\python\\ops\\math_ops.py:3066: to_int32 (from tensorflow.python.ops.math_ops) is deprecated and will be removed in a future version.\n",
      "Instructions for updating:\n",
      "Use tf.cast instead.\n",
      "Train on 11588 samples, validate on 2897 samples\n",
      "Epoch 1/20\n",
      "11588/11588 [==============================] - 7s 646us/step - loss: 0.4562 - acc: 0.7763 - binary_crossentropy: 0.4562 - val_loss: 0.4388 - val_acc: 0.8029 - val_binary_crossentropy: 0.4388\n",
      "Epoch 2/20\n",
      "11588/11588 [==============================] - 7s 610us/step - loss: 0.2309 - acc: 0.9086 - binary_crossentropy: 0.2309 - val_loss: 0.4904 - val_acc: 0.8019 - val_binary_crossentropy: 0.4904\n",
      "Epoch 3/20\n",
      "11588/11588 [==============================] - 7s 604us/step - loss: 0.1356 - acc: 0.9493 - binary_crossentropy: 0.1356 - val_loss: 0.6208 - val_acc: 0.7846 - val_binary_crossentropy: 0.6208\n",
      "Epoch 4/20\n",
      "11588/11588 [==============================] - 7s 610us/step - loss: 0.0825 - acc: 0.9697 - binary_crossentropy: 0.0825 - val_loss: 0.7514 - val_acc: 0.7677 - val_binary_crossentropy: 0.7514\n",
      "Epoch 5/20\n",
      "11588/11588 [==============================] - 7s 611us/step - loss: 0.0486 - acc: 0.9833 - binary_crossentropy: 0.0486 - val_loss: 0.9547 - val_acc: 0.7604 - val_binary_crossentropy: 0.9547 - los\n",
      "Epoch 6/20\n",
      "11588/11588 [==============================] - 7s 632us/step - loss: 0.0260 - acc: 0.9917 - binary_crossentropy: 0.0260 - val_loss: 1.1772 - val_acc: 0.7566 - val_binary_crossentropy: 1.1772\n",
      "Epoch 7/20\n",
      "11588/11588 [==============================] - 7s 611us/step - loss: 0.0168 - acc: 0.9952 - binary_crossentropy: 0.0168 - val_loss: 1.2697 - val_acc: 0.7556 - val_binary_crossentropy: 1.2697\n",
      "Epoch 8/20\n",
      "11588/11588 [==============================] - 7s 631us/step - loss: 0.0104 - acc: 0.9965 - binary_crossentropy: 0.0104 - val_loss: 1.4188 - val_acc: 0.7625 - val_binary_crossentropy: 1.4188\n",
      "Epoch 9/20\n",
      "11588/11588 [==============================] - 7s 642us/step - loss: 0.0084 - acc: 0.9971 - binary_crossentropy: 0.0084 - val_loss: 1.5372 - val_acc: 0.7508 - val_binary_crossentropy: 1.5372\n",
      "Epoch 10/20\n",
      "11588/11588 [==============================] - 8s 653us/step - loss: 0.0081 - acc: 0.9976 - binary_crossentropy: 0.0081 - val_loss: 1.4410 - val_acc: 0.7587 - val_binary_crossentropy: 1.4410\n",
      "Epoch 11/20\n",
      "11588/11588 [==============================] - 7s 632us/step - loss: 0.0066 - acc: 0.9978 - binary_crossentropy: 0.0066 - val_loss: 1.5016 - val_acc: 0.7591 - val_binary_crossentropy: 1.5016\n",
      "Epoch 12/20\n",
      "11588/11588 [==============================] - 7s 621us/step - loss: 0.0066 - acc: 0.9978 - binary_crossentropy: 0.0066 - val_loss: 1.6924 - val_acc: 0.7508 - val_binary_crossentropy: 1.6924\n",
      "Epoch 13/20\n",
      "11588/11588 [==============================] - 7s 617us/step - loss: 0.0054 - acc: 0.9981 - binary_crossentropy: 0.0054 - val_loss: 1.7085 - val_acc: 0.7477 - val_binary_crossentropy: 1.7085\n",
      "Epoch 14/20\n",
      "11588/11588 [==============================] - 7s 629us/step - loss: 0.0048 - acc: 0.9980 - binary_crossentropy: 0.0048 - val_loss: 1.7177 - val_acc: 0.7491 - val_binary_crossentropy: 1.7177\n",
      "Epoch 15/20\n",
      "11588/11588 [==============================] - 7s 621us/step - loss: 0.0055 - acc: 0.9976 - binary_crossentropy: 0.0055 - val_loss: 1.8563 - val_acc: 0.7480 - val_binary_crossentropy: 1.8563\n",
      "Epoch 16/20\n",
      "11588/11588 [==============================] - 7s 626us/step - loss: 0.0051 - acc: 0.9976 - binary_crossentropy: 0.0051 - val_loss: 1.8068 - val_acc: 0.7446 - val_binary_crossentropy: 1.8068\n",
      "Epoch 17/20\n",
      "11588/11588 [==============================] - 7s 629us/step - loss: 0.0044 - acc: 0.9980 - binary_crossentropy: 0.0044 - val_loss: 1.8145 - val_acc: 0.7566 - val_binary_crossentropy: 1.8145\n",
      "Epoch 18/20\n",
      "11588/11588 [==============================] - 7s 619us/step - loss: 0.0042 - acc: 0.9976 - binary_crossentropy: 0.0042 - val_loss: 1.8103 - val_acc: 0.7573 - val_binary_crossentropy: 1.8103\n",
      "Epoch 19/20\n",
      "11588/11588 [==============================] - 7s 616us/step - loss: 0.0059 - acc: 0.9974 - binary_crossentropy: 0.0059 - val_loss: 1.8737 - val_acc: 0.7487 - val_binary_crossentropy: 1.8737\n",
      "Epoch 20/20\n",
      "11588/11588 [==============================] - 7s 628us/step - loss: 0.0042 - acc: 0.9980 - binary_crossentropy: 0.0042 - val_loss: 1.9855 - val_acc: 0.7494 - val_binary_crossentropy: 1.9855\n"
     ]
    }
   ],
   "source": [
    "# Fit (or Train) the baseline model\n",
    "baseline_history = baseline_model.fit(X_train_vec,\n",
    "                                      Y_train,\n",
    "                                      epochs=NUM_EPOCHS_BASELINE,\n",
    "                                      batch_size=NUM_BATCH_SIZE_BASELINE,\n",
    "                                      validation_data=(X_validation_vec, Y_validation))\n",
    "\n"
   ]
  },
  {
   "cell_type": "code",
   "execution_count": 12,
   "metadata": {
    "scrolled": true
   },
   "outputs": [
    {
     "name": "stdout",
     "output_type": "stream",
     "text": [
      "2897/2897 [==============================] - 1s 193us/step\n",
      "\n",
      "acc: 74.94\n"
     ]
    }
   ],
   "source": [
    "# evaluate the baseline model\n",
    "scores_baseline = baseline_model.evaluate(X_validation_vec, Y_validation)\n",
    "print(\"\\n{}: {:.2f}\".format(baseline_model.metrics_names[1], \n",
    "                            scores_baseline[1]*100))"
   ]
  },
  {
   "cell_type": "code",
   "execution_count": 13,
   "metadata": {},
   "outputs": [],
   "source": [
    "# Save the trained baseline model \n",
    "baseline_model.save('usat_baseline.model')   #HDF5 format"
   ]
  },
  {
   "cell_type": "code",
   "execution_count": 14,
   "metadata": {},
   "outputs": [
    {
     "name": "stdout",
     "output_type": "stream",
     "text": [
      "Train on 11588 samples, validate on 2897 samples\n",
      "Epoch 1/20\n",
      "11588/11588 [==============================] - 2s 214us/step - loss: 0.6866 - acc: 0.6220 - binary_crossentropy: 0.6866 - val_loss: 0.6810 - val_acc: 0.5934 - val_binary_crossentropy: 0.6810\n",
      "Epoch 2/20\n",
      "11588/11588 [==============================] - 2s 161us/step - loss: 0.6655 - acc: 0.6483 - binary_crossentropy: 0.6655 - val_loss: 0.6623 - val_acc: 0.6296 - val_binary_crossentropy: 0.6623\n",
      "Epoch 3/20\n",
      "11588/11588 [==============================] - 2s 158us/step - loss: 0.6379 - acc: 0.6894 - binary_crossentropy: 0.6379 - val_loss: 0.6418 - val_acc: 0.6545 - val_binary_crossentropy: 0.6418\n",
      "Epoch 4/20\n",
      "11588/11588 [==============================] - 2s 156us/step - loss: 0.6064 - acc: 0.7308 - binary_crossentropy: 0.6064 - val_loss: 0.6194 - val_acc: 0.6845 - val_binary_crossentropy: 0.6194\n",
      "Epoch 5/20\n",
      "11588/11588 [==============================] - 2s 171us/step - loss: 0.5720 - acc: 0.7741 - binary_crossentropy: 0.5720 - val_loss: 0.5964 - val_acc: 0.7025 - val_binary_crossentropy: 0.5964\n",
      "Epoch 6/20\n",
      "11588/11588 [==============================] - 2s 151us/step - loss: 0.5354 - acc: 0.8061 - binary_crossentropy: 0.5354 - val_loss: 0.5728 - val_acc: 0.7263 - val_binary_crossentropy: 0.5728\n",
      "Epoch 7/20\n",
      "11588/11588 [==============================] - 2s 155us/step - loss: 0.4978 - acc: 0.8364 - binary_crossentropy: 0.4978 - val_loss: 0.5495 - val_acc: 0.7491 - val_binary_crossentropy: 0.5495\n",
      "Epoch 8/20\n",
      "11588/11588 [==============================] - 2s 152us/step - loss: 0.4607 - acc: 0.8606 - binary_crossentropy: 0.4607 - val_loss: 0.5285 - val_acc: 0.7577 - val_binary_crossentropy: 0.5285\n",
      "Epoch 9/20\n",
      "11588/11588 [==============================] - 2s 155us/step - loss: 0.4244 - acc: 0.8776 - binary_crossentropy: 0.4244 - val_loss: 0.5074 - val_acc: 0.7673 - val_binary_crossentropy: 0.5074\n",
      "Epoch 10/20\n",
      "11588/11588 [==============================] - 2s 154us/step - loss: 0.3900 - acc: 0.8902 - binary_crossentropy: 0.3900 - val_loss: 0.4891 - val_acc: 0.7767 - val_binary_crossentropy: 0.4891\n",
      "Epoch 11/20\n",
      "11588/11588 [==============================] - 2s 159us/step - loss: 0.3581 - acc: 0.9065 - binary_crossentropy: 0.3581 - val_loss: 0.4742 - val_acc: 0.7839 - val_binary_crossentropy: 0.4742\n",
      "Epoch 12/20\n",
      "11588/11588 [==============================] - 3s 223us/step - loss: 0.3291 - acc: 0.9164 - binary_crossentropy: 0.3291 - val_loss: 0.4623 - val_acc: 0.7860 - val_binary_crossentropy: 0.4623\n",
      "Epoch 13/20\n",
      "11588/11588 [==============================] - 2s 195us/step - loss: 0.3031 - acc: 0.9232 - binary_crossentropy: 0.3031 - val_loss: 0.4532 - val_acc: 0.7929 - val_binary_crossentropy: 0.4532\n",
      "Epoch 14/20\n",
      "11588/11588 [==============================] - 2s 214us/step - loss: 0.2798 - acc: 0.9285 - binary_crossentropy: 0.2798 - val_loss: 0.4458 - val_acc: 0.7943 - val_binary_crossentropy: 0.4458\n",
      "Epoch 15/20\n",
      "11588/11588 [==============================] - 3s 216us/step - loss: 0.2594 - acc: 0.9347 - binary_crossentropy: 0.2594 - val_loss: 0.4425 - val_acc: 0.7932 - val_binary_crossentropy: 0.4425\n",
      "Epoch 16/20\n",
      "11588/11588 [==============================] - 2s 166us/step - loss: 0.2413 - acc: 0.9373 - binary_crossentropy: 0.2413 - val_loss: 0.4389 - val_acc: 0.7963 - val_binary_crossentropy: 0.4389\n",
      "Epoch 17/20\n",
      "11588/11588 [==============================] - 2s 155us/step - loss: 0.2253 - acc: 0.9415 - binary_crossentropy: 0.2253 - val_loss: 0.4383 - val_acc: 0.7994 - val_binary_crossentropy: 0.4383\n",
      "Epoch 18/20\n",
      "11588/11588 [==============================] - 2s 165us/step - loss: 0.2111 - acc: 0.9462 - binary_crossentropy: 0.2111 - val_loss: 0.4397 - val_acc: 0.7998 - val_binary_crossentropy: 0.4397\n",
      "Epoch 19/20\n",
      "11588/11588 [==============================] - 2s 156us/step - loss: 0.1984 - acc: 0.9482 - binary_crossentropy: 0.1984 - val_loss: 0.4403 - val_acc: 0.7977 - val_binary_crossentropy: 0.4403\n",
      "Epoch 20/20\n",
      "11588/11588 [==============================] - 2s 169us/step - loss: 0.1871 - acc: 0.9523 - binary_crossentropy: 0.1871 - val_loss: 0.4457 - val_acc: 0.7981 - val_binary_crossentropy: 0.4457\n"
     ]
    }
   ],
   "source": [
    "# small model\n",
    "\n",
    "\n",
    "smaller_model = keras.Sequential([\n",
    "    keras.layers.Dense(4, activation=tf.nn.relu, input_shape=(NUM_WORDS,)),\n",
    "    keras.layers.Dense(4, activation=tf.nn.relu),\n",
    "    keras.layers.Dense(1, activation=tf.nn.sigmoid)\n",
    "])\n",
    "\n",
    "smaller_model.compile(optimizer='adam',\n",
    "                loss='binary_crossentropy',\n",
    "                metrics=['accuracy', 'binary_crossentropy'])\n",
    "\n",
    "# smaller_model.summary()\n",
    "\n",
    "smaller_history = smaller_model.fit(X_train_vec,\n",
    "                                    Y_train,\n",
    "                                    epochs=20,\n",
    "                                    batch_size=512,\n",
    "                                    validation_data=(X_validation_vec, Y_validation))  # try to make naming conventions consistent"
   ]
  },
  {
   "cell_type": "code",
   "execution_count": 15,
   "metadata": {},
   "outputs": [
    {
     "name": "stdout",
     "output_type": "stream",
     "text": [
      "_________________________________________________________________\n",
      "Layer (type)                 Output Shape              Param #   \n",
      "=================================================================\n",
      "dense_8 (Dense)              (None, 512)               6536704   \n",
      "_________________________________________________________________\n",
      "dense_9 (Dense)              (None, 512)               262656    \n",
      "_________________________________________________________________\n",
      "dense_10 (Dense)             (None, 1)                 513       \n",
      "=================================================================\n",
      "Total params: 6,799,873\n",
      "Trainable params: 6,799,873\n",
      "Non-trainable params: 0\n",
      "_________________________________________________________________\n",
      "Train on 11588 samples, validate on 2897 samples\n",
      "Epoch 1/20\n",
      "11588/11588 [==============================] - 13s 1ms/step - loss: 0.5991 - acc: 0.6391 - binary_crossentropy: 0.5991 - val_loss: 0.5344 - val_acc: 0.7156 - val_binary_crossentropy: 0.5344\n",
      "Epoch 2/20\n",
      "11588/11588 [==============================] - 13s 1ms/step - loss: 0.3554 - acc: 0.8777 - binary_crossentropy: 0.3554 - val_loss: 0.5161 - val_acc: 0.8032 - val_binary_crossentropy: 0.5161\n",
      "Epoch 3/20\n",
      "11588/11588 [==============================] - 10s 878us/step - loss: 0.1711 - acc: 0.9396 - binary_crossentropy: 0.1711 - val_loss: 0.5950 - val_acc: 0.7946 - val_binary_crossentropy: 0.5950\n",
      "Epoch 4/20\n",
      "11588/11588 [==============================] - 11s 968us/step - loss: 0.0881 - acc: 0.9709 - binary_crossentropy: 0.0881 - val_loss: 0.7323 - val_acc: 0.7874 - val_binary_crossentropy: 0.7323\n",
      "Epoch 5/20\n",
      "11588/11588 [==============================] - 14s 1ms/step - loss: 0.0480 - acc: 0.9855 - binary_crossentropy: 0.0480 - val_loss: 0.8865 - val_acc: 0.7732 - val_binary_crossentropy: 0.8865\n",
      "Epoch 6/20\n",
      "11588/11588 [==============================] - 10s 896us/step - loss: 0.0275 - acc: 0.9931 - binary_crossentropy: 0.0275 - val_loss: 1.0132 - val_acc: 0.7639 - val_binary_crossentropy: 1.0132\n",
      "Epoch 7/20\n",
      "11588/11588 [==============================] - 10s 888us/step - loss: 0.0160 - acc: 0.9960 - binary_crossentropy: 0.0160 - val_loss: 1.1066 - val_acc: 0.7556 - val_binary_crossentropy: 1.1066\n",
      "Epoch 8/20\n",
      "11588/11588 [==============================] - 13s 1ms/step - loss: 0.0109 - acc: 0.9974 - binary_crossentropy: 0.0109 - val_loss: 1.1532 - val_acc: 0.7604 - val_binary_crossentropy: 1.1532\n",
      "Epoch 9/20\n",
      "11588/11588 [==============================] - 11s 926us/step - loss: 0.0084 - acc: 0.9978 - binary_crossentropy: 0.0084 - val_loss: 1.2760 - val_acc: 0.7535 - val_binary_crossentropy: 1.2760\n",
      "Epoch 10/20\n",
      "11588/11588 [==============================] - 14s 1ms/step - loss: 0.0070 - acc: 0.9977 - binary_crossentropy: 0.0070 - val_loss: 1.3272 - val_acc: 0.7549 - val_binary_crossentropy: 1.3272\n",
      "Epoch 11/20\n",
      "11588/11588 [==============================] - 11s 927us/step - loss: 0.0065 - acc: 0.9976 - binary_crossentropy: 0.0065 - val_loss: 1.3356 - val_acc: 0.7511 - val_binary_crossentropy: 1.3356\n",
      "Epoch 12/20\n",
      "11588/11588 [==============================] - 12s 1ms/step - loss: 0.0055 - acc: 0.9984 - binary_crossentropy: 0.0055 - val_loss: 1.3257 - val_acc: 0.7629 - val_binary_crossentropy: 1.3257\n",
      "Epoch 13/20\n",
      "11588/11588 [==============================] - 14s 1ms/step - loss: 0.0055 - acc: 0.9983 - binary_crossentropy: 0.0055 - val_loss: 1.3768 - val_acc: 0.7635 - val_binary_crossentropy: 1.3768\n",
      "Epoch 14/20\n",
      "11588/11588 [==============================] - 10s 897us/step - loss: 0.0048 - acc: 0.9984 - binary_crossentropy: 0.0048 - val_loss: 1.3577 - val_acc: 0.7577 - val_binary_crossentropy: 1.3577\n",
      "Epoch 15/20\n",
      "11588/11588 [==============================] - 14s 1ms/step - loss: 0.0049 - acc: 0.9980 - binary_crossentropy: 0.0049 - val_loss: 1.4339 - val_acc: 0.7639 - val_binary_crossentropy: 1.4339\n",
      "Epoch 16/20\n",
      "11588/11588 [==============================] - 11s 909us/step - loss: 0.0051 - acc: 0.9982 - binary_crossentropy: 0.0051 - val_loss: 1.3879 - val_acc: 0.7642 - val_binary_crossentropy: 1.3879\n",
      "Epoch 17/20\n",
      "11588/11588 [==============================] - 11s 932us/step - loss: 0.0046 - acc: 0.9985 - binary_crossentropy: 0.0046 - val_loss: 1.4741 - val_acc: 0.7639 - val_binary_crossentropy: 1.4741\n",
      "Epoch 18/20\n",
      "11588/11588 [==============================] - 13s 1ms/step - loss: 0.0044 - acc: 0.9983 - binary_crossentropy: 0.0044 - val_loss: 1.4668 - val_acc: 0.7618 - val_binary_crossentropy: 1.4668\n",
      "Epoch 19/20\n",
      "11588/11588 [==============================] - 10s 890us/step - loss: 0.0036 - acc: 0.9983 - binary_crossentropy: 0.0036 - val_loss: 1.4850 - val_acc: 0.7663 - val_binary_crossentropy: 1.4850\n",
      "Epoch 20/20\n",
      "11588/11588 [==============================] - 13s 1ms/step - loss: 0.0039 - acc: 0.9985 - binary_crossentropy: 0.0039 - val_loss: 1.4926 - val_acc: 0.7653 - val_binary_crossentropy: 1.4926\n"
     ]
    }
   ],
   "source": [
    "# Large model\n",
    "larger_model = keras.models.Sequential([\n",
    "    keras.layers.Dense(512, activation=tf.nn.relu, input_shape=(NUM_WORDS,)),\n",
    "    keras.layers.Dense(512, activation=tf.nn.relu),\n",
    "    keras.layers.Dense(1, activation=tf.nn.sigmoid)\n",
    "])\n",
    "\n",
    "larger_model.compile(optimizer='adam',\n",
    "                     loss='binary_crossentropy',\n",
    "                     metrics=['accuracy','binary_crossentropy'])\n",
    "\n",
    "larger_model.summary()\n",
    "larger_history = larger_model.fit(X_train_vec, Y_train,\n",
    "                                  epochs=20,\n",
    "                                  batch_size=512,\n",
    "                                  validation_data=(X_validation_vec, Y_validation))\n"
   ]
  },
  {
   "cell_type": "code",
   "execution_count": 16,
   "metadata": {},
   "outputs": [
    {
     "name": "stdout",
     "output_type": "stream",
     "text": [
      "Train on 11588 samples, validate on 2897 samples\n",
      "Epoch 1/20\n",
      " - 3s - loss: 0.7089 - acc: 0.6234 - binary_crossentropy: 0.6821 - val_loss: 0.6888 - val_acc: 0.5934 - val_binary_crossentropy: 0.6720\n",
      "Epoch 2/20\n",
      " - 2s - loss: 0.6633 - acc: 0.6413 - binary_crossentropy: 0.6464 - val_loss: 0.6585 - val_acc: 0.6103 - val_binary_crossentropy: 0.6404\n",
      "Epoch 3/20\n",
      " - 2s - loss: 0.6197 - acc: 0.6809 - binary_crossentropy: 0.5989 - val_loss: 0.6262 - val_acc: 0.6752 - val_binary_crossentropy: 0.6018\n",
      "Epoch 4/20\n",
      " - 2s - loss: 0.5729 - acc: 0.7554 - binary_crossentropy: 0.5445 - val_loss: 0.5946 - val_acc: 0.7225 - val_binary_crossentropy: 0.5615\n",
      "Epoch 5/20\n",
      " - 2s - loss: 0.5274 - acc: 0.8086 - binary_crossentropy: 0.4897 - val_loss: 0.5647 - val_acc: 0.7556 - val_binary_crossentropy: 0.5219\n",
      "Epoch 6/20\n",
      " - 2s - loss: 0.4847 - acc: 0.8494 - binary_crossentropy: 0.4372 - val_loss: 0.5415 - val_acc: 0.7777 - val_binary_crossentropy: 0.4888\n",
      "Epoch 7/20\n",
      " - 2s - loss: 0.4490 - acc: 0.8714 - binary_crossentropy: 0.3918 - val_loss: 0.5288 - val_acc: 0.7829 - val_binary_crossentropy: 0.4671\n",
      "Epoch 8/20\n",
      " - 2s - loss: 0.4207 - acc: 0.8849 - binary_crossentropy: 0.3552 - val_loss: 0.5160 - val_acc: 0.7988 - val_binary_crossentropy: 0.4466\n",
      "Epoch 9/20\n",
      " - 2s - loss: 0.3984 - acc: 0.8974 - binary_crossentropy: 0.3258 - val_loss: 0.5132 - val_acc: 0.7988 - val_binary_crossentropy: 0.4373\n",
      "Epoch 10/20\n",
      " - 3s - loss: 0.3807 - acc: 0.9052 - binary_crossentropy: 0.3022 - val_loss: 0.5104 - val_acc: 0.8050 - val_binary_crossentropy: 0.4294\n",
      "Epoch 11/20\n",
      " - 3s - loss: 0.3666 - acc: 0.9150 - binary_crossentropy: 0.2836 - val_loss: 0.5150 - val_acc: 0.8053 - val_binary_crossentropy: 0.4299\n",
      "Epoch 12/20\n",
      " - 3s - loss: 0.3546 - acc: 0.9210 - binary_crossentropy: 0.2677 - val_loss: 0.5141 - val_acc: 0.8077 - val_binary_crossentropy: 0.4253\n",
      "Epoch 13/20\n",
      " - 3s - loss: 0.3444 - acc: 0.9264 - binary_crossentropy: 0.2542 - val_loss: 0.5209 - val_acc: 0.8032 - val_binary_crossentropy: 0.4292\n",
      "Epoch 14/20\n",
      " - 3s - loss: 0.3347 - acc: 0.9305 - binary_crossentropy: 0.2416 - val_loss: 0.5242 - val_acc: 0.8046 - val_binary_crossentropy: 0.4298\n",
      "Epoch 15/20\n",
      " - 3s - loss: 0.3265 - acc: 0.9340 - binary_crossentropy: 0.2310 - val_loss: 0.5307 - val_acc: 0.8067 - val_binary_crossentropy: 0.4341\n",
      "Epoch 16/20\n",
      " - 3s - loss: 0.3190 - acc: 0.9380 - binary_crossentropy: 0.2213 - val_loss: 0.5309 - val_acc: 0.8081 - val_binary_crossentropy: 0.4323\n",
      "Epoch 17/20\n",
      " - 2s - loss: 0.3120 - acc: 0.9402 - binary_crossentropy: 0.2126 - val_loss: 0.5392 - val_acc: 0.8095 - val_binary_crossentropy: 0.4389\n",
      "Epoch 18/20\n",
      " - 2s - loss: 0.3057 - acc: 0.9455 - binary_crossentropy: 0.2047 - val_loss: 0.5427 - val_acc: 0.8050 - val_binary_crossentropy: 0.4410\n",
      "Epoch 19/20\n",
      " - 2s - loss: 0.3002 - acc: 0.9482 - binary_crossentropy: 0.1976 - val_loss: 0.5434 - val_acc: 0.8029 - val_binary_crossentropy: 0.4400\n",
      "Epoch 20/20\n",
      " - 2s - loss: 0.2942 - acc: 0.9520 - binary_crossentropy: 0.1901 - val_loss: 0.5544 - val_acc: 0.8057 - val_binary_crossentropy: 0.4496\n"
     ]
    }
   ],
   "source": [
    "l2_model = keras.models.Sequential([\n",
    "    keras.layers.Dense(16, kernel_regularizer=keras.regularizers.l2(0.001),  #add the regulizer L2 and set the parameters (see .ppt)\n",
    "                       activation=tf.nn.relu, input_shape=(NUM_WORDS,)),\n",
    "    keras.layers.Dense(16, kernel_regularizer=keras.regularizers.l2(0.001),\n",
    "                       activation=tf.nn.relu),\n",
    "    keras.layers.Dense(1, activation=tf.nn.sigmoid)\n",
    "])\n",
    "\n",
    "l2_model.compile(optimizer='adam',\n",
    "                 loss='binary_crossentropy',\n",
    "                 metrics=['accuracy', 'binary_crossentropy'])\n",
    "\n",
    "l2_model_history = l2_model.fit(X_train_vec, Y_train,\n",
    "                                epochs=20,\n",
    "                                batch_size=512,\n",
    "                                validation_data=(X_validation_vec, Y_validation),\n",
    "                                verbose=2)"
   ]
  },
  {
   "cell_type": "code",
   "execution_count": 17,
   "metadata": {},
   "outputs": [
    {
     "name": "stdout",
     "output_type": "stream",
     "text": [
      "2897/2897 [==============================] - 2s 690us/step\n",
      "\n",
      "acc: 80.57\n"
     ]
    }
   ],
   "source": [
    "# evaluate the dpt_model model\n",
    "scores_l2 = l2_model.evaluate(X_validation_vec, Y_validation)\n",
    "print(\"\\n{}: {:.2f}\".format(l2_model.metrics_names[1], \n",
    "                            scores_l2[1]*100))"
   ]
  },
  {
   "cell_type": "markdown",
   "metadata": {},
   "source": [
    "### Add Dropout Model - Negative"
   ]
  },
  {
   "cell_type": "code",
   "execution_count": 18,
   "metadata": {},
   "outputs": [
    {
     "name": "stdout",
     "output_type": "stream",
     "text": [
      "WARNING:tensorflow:From C:\\Users\\philb\\Miniconda3\\lib\\site-packages\\keras\\backend\\tensorflow_backend.py:3445: calling dropout (from tensorflow.python.ops.nn_ops) with keep_prob is deprecated and will be removed in a future version.\n",
      "Instructions for updating:\n",
      "Please use `rate` instead of `keep_prob`. Rate should be set to `rate = 1 - keep_prob`.\n",
      "(11588, 12766)\n",
      "Train on 11588 samples, validate on 2897 samples\n",
      "Epoch 1/20\n",
      " - 4s - loss: 0.6825 - acc: 0.6200 - binary_crossentropy: 0.6825 - val_loss: 0.6751 - val_acc: 0.5934 - val_binary_crossentropy: 0.6751\n",
      "Epoch 2/20\n",
      " - 2s - loss: 0.6509 - acc: 0.6354 - binary_crossentropy: 0.6509 - val_loss: 0.6517 - val_acc: 0.5934 - val_binary_crossentropy: 0.6517\n",
      "Epoch 3/20\n",
      " - 2s - loss: 0.6147 - acc: 0.6355 - binary_crossentropy: 0.6147 - val_loss: 0.6219 - val_acc: 0.5934 - val_binary_crossentropy: 0.6219\n",
      "Epoch 4/20\n",
      " - 2s - loss: 0.5668 - acc: 0.6587 - binary_crossentropy: 0.5668 - val_loss: 0.5740 - val_acc: 0.6773 - val_binary_crossentropy: 0.5740\n",
      "Epoch 5/20\n",
      " - 2s - loss: 0.5079 - acc: 0.7625 - binary_crossentropy: 0.5079 - val_loss: 0.5221 - val_acc: 0.7601 - val_binary_crossentropy: 0.5221\n",
      "Epoch 6/20\n",
      " - 2s - loss: 0.4387 - acc: 0.8385 - binary_crossentropy: 0.4387 - val_loss: 0.4756 - val_acc: 0.7898 - val_binary_crossentropy: 0.4756\n",
      "Epoch 7/20\n",
      " - 2s - loss: 0.3772 - acc: 0.8703 - binary_crossentropy: 0.3772 - val_loss: 0.4453 - val_acc: 0.7984 - val_binary_crossentropy: 0.4453\n",
      "Epoch 8/20\n",
      " - 2s - loss: 0.3198 - acc: 0.8941 - binary_crossentropy: 0.3198 - val_loss: 0.4342 - val_acc: 0.8064 - val_binary_crossentropy: 0.4342\n",
      "Epoch 9/20\n",
      " - 2s - loss: 0.2811 - acc: 0.9089 - binary_crossentropy: 0.2811 - val_loss: 0.4424 - val_acc: 0.8050 - val_binary_crossentropy: 0.4424\n",
      "Epoch 10/20\n",
      " - 2s - loss: 0.2484 - acc: 0.9173 - binary_crossentropy: 0.2484 - val_loss: 0.4456 - val_acc: 0.8084 - val_binary_crossentropy: 0.4456\n",
      "Epoch 11/20\n",
      " - 5s - loss: 0.2275 - acc: 0.9298 - binary_crossentropy: 0.2275 - val_loss: 0.4545 - val_acc: 0.8088 - val_binary_crossentropy: 0.4545\n",
      "Epoch 12/20\n",
      " - 2s - loss: 0.2038 - acc: 0.9354 - binary_crossentropy: 0.2038 - val_loss: 0.4743 - val_acc: 0.8046 - val_binary_crossentropy: 0.4743\n",
      "Epoch 13/20\n",
      " - 2s - loss: 0.1851 - acc: 0.9431 - binary_crossentropy: 0.1851 - val_loss: 0.4883 - val_acc: 0.8046 - val_binary_crossentropy: 0.4883\n",
      "Epoch 14/20\n",
      " - 2s - loss: 0.1715 - acc: 0.9466 - binary_crossentropy: 0.1715 - val_loss: 0.5046 - val_acc: 0.8043 - val_binary_crossentropy: 0.5046\n",
      "Epoch 15/20\n",
      " - 2s - loss: 0.1596 - acc: 0.9507 - binary_crossentropy: 0.1596 - val_loss: 0.5236 - val_acc: 0.8015 - val_binary_crossentropy: 0.5236\n",
      "Epoch 16/20\n",
      " - 2s - loss: 0.1460 - acc: 0.9555 - binary_crossentropy: 0.1460 - val_loss: 0.5469 - val_acc: 0.7998 - val_binary_crossentropy: 0.5469\n",
      "Epoch 17/20\n",
      " - 2s - loss: 0.1372 - acc: 0.9578 - binary_crossentropy: 0.1372 - val_loss: 0.5616 - val_acc: 0.7991 - val_binary_crossentropy: 0.5616\n",
      "Epoch 18/20\n",
      " - 2s - loss: 0.1271 - acc: 0.9624 - binary_crossentropy: 0.1271 - val_loss: 0.5876 - val_acc: 0.7981 - val_binary_crossentropy: 0.5876\n",
      "Epoch 19/20\n",
      " - 2s - loss: 0.1201 - acc: 0.9623 - binary_crossentropy: 0.1201 - val_loss: 0.5985 - val_acc: 0.7957 - val_binary_crossentropy: 0.5985\n",
      "Epoch 20/20\n",
      " - 2s - loss: 0.1164 - acc: 0.9643 - binary_crossentropy: 0.1164 - val_loss: 0.6251 - val_acc: 0.7908 - val_binary_crossentropy: 0.6251\n"
     ]
    }
   ],
   "source": [
    "\n",
    "dpt_model = keras.models.Sequential([\n",
    "    keras.layers.Dense(16, activation=tf.nn.relu, input_shape=(NUM_WORDS,)), #NUM_WORDS = 12766\n",
    "    keras.layers.Dropout(0.5),\n",
    "    keras.layers.Dense(32, activation=tf.nn.relu),\n",
    "    keras.layers.Dropout(0.5),\n",
    "    keras.layers.Dense(1, activation=tf.nn.sigmoid)\n",
    "])\n",
    "\n",
    "dpt_model.compile(optimizer='adam',\n",
    "                  loss='binary_crossentropy',\n",
    "                  metrics=['accuracy','binary_crossentropy'])\n",
    "\n",
    "print(X_train_vec.shape)\n",
    "dpt_model_history = dpt_model.fit(X_train_vec, Y_train,\n",
    "                                  epochs=NUM_EPOCHS_DPT,\n",
    "                                  batch_size=512,\n",
    "                                  validation_data=(X_validation_vec, Y_validation),\n",
    "                                  verbose=2)\n",
    "dpt_model.save('usat_dpt.model')   #HDF5 format\n"
   ]
  },
  {
   "cell_type": "code",
   "execution_count": 19,
   "metadata": {},
   "outputs": [
    {
     "name": "stdout",
     "output_type": "stream",
     "text": [
      "_________________________________________________________________\n",
      "Layer (type)                 Output Shape              Param #   \n",
      "=================================================================\n",
      "dense_14 (Dense)             (None, 16)                204272    \n",
      "_________________________________________________________________\n",
      "dropout_1 (Dropout)          (None, 16)                0         \n",
      "_________________________________________________________________\n",
      "dense_15 (Dense)             (None, 32)                544       \n",
      "_________________________________________________________________\n",
      "dropout_2 (Dropout)          (None, 32)                0         \n",
      "_________________________________________________________________\n",
      "dense_16 (Dense)             (None, 1)                 33        \n",
      "=================================================================\n",
      "Total params: 204,849\n",
      "Trainable params: 204,849\n",
      "Non-trainable params: 0\n",
      "_________________________________________________________________\n"
     ]
    }
   ],
   "source": [
    "dpt_model.summary()"
   ]
  },
  {
   "cell_type": "code",
   "execution_count": 20,
   "metadata": {},
   "outputs": [
    {
     "name": "stdout",
     "output_type": "stream",
     "text": [
      "2897/2897 [==============================] - 1s 204us/step\n",
      "\n",
      "acc: 80.57\n"
     ]
    }
   ],
   "source": [
    "# evaluate the dpt_model model\n",
    "# evaluate the dpt_model model\n",
    "scores_dpt = l2_model.evaluate(X_validation_vec, Y_validation)\n",
    "print(\"\\n{}: {:.2f}\".format(l2_model.metrics_names[1], \n",
    "                            scores_dpt[1]*100))\n"
   ]
  },
  {
   "cell_type": "markdown",
   "metadata": {},
   "source": [
    "### Plot the lost (binary_crossentropy) training and validation \n",
    "<!--TODO(markdaoust): This should be a one-liner with tensorboard -->"
   ]
  },
  {
   "cell_type": "code",
   "execution_count": 21,
   "metadata": {},
   "outputs": [],
   "source": [
    "# plot \n",
    "\n",
    "def plot_overfitting(histories, key='binary_crossentropy'):\n",
    "  plt.figure(figsize=(16,10))\n",
    "\n",
    "  for name, history in histories:\n",
    "    val = plt.plot(history.epoch, history.history['val_'+key],\n",
    "                   '--', label=name.title()+' Val')\n",
    "    plt.plot(history.epoch, history.history[key], color=val[0].get_color(),\n",
    "             label=name.title()+' Train')\n",
    "\n",
    "  plt.xlabel('Epochs')\n",
    "  plt.ylabel(key.replace('_',' ').title())\n",
    "  plt.legend()\n",
    "\n",
    "  plt.xlim([0,max(history.epoch)])\n",
    "\n",
    "\n",
    "\n",
    "#plot_overfitting([('baseline', baseline_history)])"
   ]
  },
  {
   "cell_type": "markdown",
   "metadata": {},
   "source": [
    "### Plot the accuracy of training and validation\n",
    "\n",
    "<!--TODO(markdaoust): This should be a one-liner with tensorboard -->"
   ]
  },
  {
   "cell_type": "code",
   "execution_count": 22,
   "metadata": {},
   "outputs": [],
   "source": [
    "def plot_accuracy(histories, key='acc'):\n",
    "  plt.figure(figsize=(16,10))\n",
    "\n",
    "  for name, history in histories:\n",
    "    val = plt.plot(history.epoch, history.history['val_'+key],\n",
    "                   '--', label=name.title()+' Val')\n",
    "    plt.plot(history.epoch, history.history[key], color=val[0].get_color(),\n",
    "             label=name.title()+' Train')\n",
    "\n",
    "  plt.xlabel('Epochs')\n",
    "  plt.ylabel(key.replace('_',' ').title())\n",
    "  plt.legend()\n",
    "\n",
    "  plt.xlim([0,max(history.epoch)])\n",
    "#plot_accuracy([('baseline', baseline_history)])"
   ]
  },
  {
   "cell_type": "code",
   "execution_count": 23,
   "metadata": {
    "scrolled": true
   },
   "outputs": [
    {
     "data": {
      "image/png": "[encoded data removed]",
      "text/plain": [
       "<Figure size 1152x720 with 1 Axes>"
      ]
     },
     "metadata": {
      "needs_background": "light"
     },
     "output_type": "display_data"
    }
   ],
   "source": [
    "plot_overfitting([('baseline', baseline_history),\n",
    "              ('smaller', smaller_history),\n",
    "              ('larger',larger_history),\n",
    "              ('dropout', dpt_model_history),\n",
    "              ('l2_model', l2_model_history)])\n"
   ]
  },
  {
   "cell_type": "code",
   "execution_count": null,
   "metadata": {},
   "outputs": [],
   "source": [
    "plot_accuracy([('baseline', baseline_history),\n",
    "              ('smaller', smaller_history),\n",
    "              ('larger',larger_history),\n",
    "              ('dropout', dpt_model_history),\n",
    "              ('l2_model_history', l2_model_history)])\n"
   ]
  },
  {
   "cell_type": "markdown",
   "metadata": {},
   "source": [
    "# Prediciton"
   ]
  },
  {
   "cell_type": "code",
   "execution_count": null,
   "metadata": {},
   "outputs": [],
   "source": [
    "# Load the saved models\n",
    "# new_baseline_model = load_model('usat_baseline.model')\n",
    "new_dpt_model = load_model('usat_dpt.model')"
   ]
  },
  {
   "cell_type": "code",
   "execution_count": null,
   "metadata": {
    "scrolled": true
   },
   "outputs": [],
   "source": [
    "# Make Prediction\n",
    "\n",
    "comment = \"@united last night we waited forever at the gate because someone from corporate dispatch FORGOT to call the crew #unfriendlyskies\"\n",
    "comment = input(\"please input your comment\")\n",
    "\n",
    "X_test =  [comment]\n",
    "# X_ensemble = np.r_[X_test,X_train]\n",
    "\n",
    "# X_ensemble_vec = tfidfvectorizer.fit_transform(X_ensemble)\n",
    "# X_test_vec = X_ensemble_vec[0]\n",
    "\n",
    "\n",
    "X_test_vec = tfidfvectorizer.transform(X_test)\n",
    "\n",
    "# predictions_baseline = new_baseline_model.predict(X_test_vec)\n",
    "predictions = new_dpt_model.predict(X_test_vec)\n",
    "\n",
    "\n",
    "# if round(predictions_baseline[0][0]) == 0:\n",
    "#     print(\"baseline: the comment is\", \"Negative\")\n",
    "# else:\n",
    "#     print(\"baseline: non-negative\")\n",
    "\n",
    "if round(predictions[0][0]) == 0:\n",
    "    print(\"dropout: the comment is\", \"Negative\")\n",
    "else:\n",
    "    print(\"droput: Positive\")\n",
    "\n",
    "    \n",
    "    "
   ]
  },
  {
   "cell_type": "markdown",
   "metadata": {},
   "source": [
    "# Testing: Twitter Real-time opinion of UnitedAirlines"
   ]
  },
  {
   "cell_type": "code",
   "execution_count": null,
   "metadata": {},
   "outputs": [],
   "source": [
    "def get_prediction(comment):\n",
    "\n",
    "    \n",
    "    from keras.models import load_model  # to load saved model\n",
    "    new_dpt_model = load_model('usat_dpt.model')\n",
    "\n",
    "    X_test =  [comment]\n",
    "    X_test_vec = tfidfvectorizer.transform(X_test)\n",
    "    predictions = new_dpt_model.predict(X_test_vec)\n",
    "\n",
    "    if round(predictions[0][0]) == 0:\n",
    "        return \"Negative Sentiment\"\n",
    "    else:\n",
    "        return \"Positive Sentiment\"\n",
    "\n"
   ]
  },
  {
   "cell_type": "code",
   "execution_count": null,
   "metadata": {
    "scrolled": true
   },
   "outputs": [
    {
     "data": {
      "text/plain": [
       "'Positive Sentiment'"
      ]
     },
     "execution_count": 28,
     "metadata": {},
     "output_type": "execute_result"
    }
   ],
   "source": [
    "get_prediction(\"This class is great! #ISOM5240\") # testing module that filter the hashtag\n"
   ]
  },
  {
   "cell_type": "code",
   "execution_count": null,
   "metadata": {},
   "outputs": [
    {
     "name": "stdout",
     "output_type": "stream",
     "text": [
      "2019-05-31 15:22:46 @united This guy was => Positive Sentiment\n",
      "2019-05-31 15:19:45 Flying the friendly  => Positive Sentiment\n",
      "2019-05-31 14:55:59 Looking at the brigh => Positive Sentiment\n",
      "2019-05-31 14:19:22 A huge thanks to @un => Positive Sentiment\n",
      "2019-05-31 13:42:29 @united It's honestl => Negative Sentiment\n",
      "2019-05-31 13:29:29 #UAL #UnitedAirlines => Negative Sentiment\n",
      "2019-05-31 12:57:41 RT @flybyJAS: #Unite => Negative Sentiment\n",
      "2019-05-31 12:56:30 #UnitedAirlines flig => Positive Sentiment\n",
      "2019-05-31 12:41:23 I will never fly wit => Negative Sentiment\n",
      "2019-05-31 11:29:39 @united I submitted  => Negative Sentiment\n",
      "2019-05-31 11:22:51 Do any of these airl => Positive Sentiment\n",
      "2019-05-31 09:58:53 RT @nonrevnick: Such => Negative Sentiment\n",
      "2019-05-31 09:31:28 What’s the point in  => Negative Sentiment\n",
      "2019-05-31 08:39:08 @united @nytimestrav => Negative Sentiment\n",
      "2019-05-31 07:53:35 Tags: #boeing #b737  => Positive Sentiment\n",
      "2019-05-31 06:47:28 United CEO Oscar Mun => Positive Sentiment\n",
      "2019-05-31 06:47:08 A United Airlines Bo => Negative Sentiment\n",
      "2019-05-31 05:34:15 My in law arrived in => Negative Sentiment\n",
      "2019-05-31 05:14:55 @viewswithhughes @un => Negative Sentiment\n",
      "2019-05-31 04:04:20 RT @SNspotter53: An  => Positive Sentiment\n",
      "2019-05-31 04:01:27 RT @SNspotter53: An  => Positive Sentiment\n",
      "2019-05-31 02:57:09 RT @ConnyIntV: Enter => Negative Sentiment\n",
      "2019-05-31 02:29:07 A special thanks to  => Positive Sentiment\n",
      "2019-05-31 02:20:38 A special thanks to  => Positive Sentiment\n",
      "2019-05-31 01:52:57 @united when #United => Negative Sentiment\n",
      "2019-05-31 01:09:53 Delayed flight?! Aga => Negative Sentiment\n",
      "2019-05-31 01:07:08 @united so annoyed & => Negative Sentiment\n",
      "2019-05-31 01:00:24 None of the employee => Negative Sentiment\n",
      "2019-05-31 00:46:45 Really unexpected an => Negative Sentiment\n",
      "2019-05-31 00:00:22 @SouthwestAir 5 hour => Negative Sentiment\n",
      "2019-05-30 23:57:59 Thanks again #United => Positive Sentiment\n",
      "2019-05-30 23:38:42 @Rockies Would have  => Positive Sentiment\n",
      "2019-05-30 23:36:25 @united no additiona => Negative Sentiment\n",
      "2019-05-30 23:31:31 RT @SNspotter53: An  => Positive Sentiment\n",
      "2019-05-30 23:30:00 An United 777 taking => Positive Sentiment\n",
      "2019-05-30 22:59:03 RT @SebastianKaran4: => Negative Sentiment\n",
      "2019-05-30 22:49:48 When STEM and sports => Positive Sentiment\n",
      "2019-05-30 22:34:58 #unitedAIRLINES brok => Positive Sentiment\n",
      "2019-05-30 22:08:25 And we’ve got all th => Negative Sentiment\n",
      "2019-05-30 21:39:42 Hey #unitedAIRLINES  => Negative Sentiment\n",
      "2019-05-30 21:28:28 #Haiku               => Negative Sentiment\n",
      "2019-05-30 21:21:44 #UnitedAirlines will => Negative Sentiment\n",
      "2019-05-30 21:20:22 Haven’t felt so slim => Negative Sentiment\n",
      "2019-05-30 21:19:42 RT @bhavnadoc: @unit => Negative Sentiment\n",
      "2019-05-30 21:19:37 RT @bhavnadoc: @unit => Negative Sentiment\n",
      "2019-05-30 21:19:10 @SouthwestAir trying => Negative Sentiment\n",
      "2019-05-30 21:17:42 @united In short #Un => Negative Sentiment\n",
      "2019-05-30 21:16:31 RT @SNspotter53: An  => Positive Sentiment\n",
      "2019-05-30 21:15:00 An United 777 taking => Positive Sentiment\n",
      "2019-05-30 21:00:18 @united if not for i => Negative Sentiment\n",
      "2019-05-30 20:56:31 Such a great time at => Negative Sentiment\n",
      "2019-05-30 20:56:02 @united First my lug => Negative Sentiment\n",
      "2019-05-30 20:35:43 The Countdown to #Ch => Positive Sentiment\n",
      "2019-05-30 20:20:28 #UnitedAirlines why  => Negative Sentiment\n",
      "2019-05-30 20:13:23 I can travel on a pl => Negative Sentiment\n",
      "2019-05-30 19:39:39 #UnitedAirlines lost => Negative Sentiment\n",
      "2019-05-30 18:40:14 We have a gorgeous s => Positive Sentiment\n",
      "2019-05-30 16:56:45 Gotta love a shout o => Positive Sentiment\n",
      "2019-05-30 16:39:07 Check out &gt;&gt;&g => Positive Sentiment\n",
      "2019-05-30 16:01:01 $97 &amp; up - Los A => Positive Sentiment\n",
      "2019-05-30 15:40:14 At Fresno Yosemite A => Negative Sentiment\n",
      "2019-05-30 14:49:26 RT @AirplanesAbout:  => Positive Sentiment\n",
      "2019-05-30 14:49:04 RT @AirplanesAbout:  => Positive Sentiment\n",
      "2019-05-30 14:48:40 N811UA: United Airli => Positive Sentiment\n",
      "2019-05-30 14:44:15 RT @Rajeshmhasawade: => Negative Sentiment\n",
      "2019-05-30 14:43:40 RT @Rajeshmhasawade: => Negative Sentiment\n",
      "2019-05-30 14:23:44 All About Our 9 Hour => Negative Sentiment\n",
      "2019-05-30 14:17:16 United Airlines laun => Positive Sentiment\n",
      "2019-05-30 13:39:09 About to go for a to => Positive Sentiment\n",
      "2019-05-30 13:08:06 What’s up, DEN?  It’ => Positive Sentiment\n",
      "2019-05-30 12:50:42 This direct flight f => Positive Sentiment\n",
      "2019-05-30 12:48:32 RT @AMooreRD: Hi @un => Negative Sentiment\n",
      "2019-05-30 12:10:09 RT @quichanenb: Hi t => Positive Sentiment\n",
      "2019-05-30 12:07:04 Joyful singing!  Mak => Positive Sentiment\n",
      "2019-05-30 11:29:00 RT @AkzoNobel: Blue’ => Positive Sentiment\n",
      "2019-05-30 09:19:31 When you on a flight => Positive Sentiment\n",
      "2019-05-30 06:51:01 RT @AirTravellerorg: => Positive Sentiment\n",
      "2019-05-30 05:52:22 Price wars heat up.  => Negative Sentiment\n",
      "2019-05-30 05:05:17 Dear @united \n",
      "I unde => Negative Sentiment\n",
      "2019-05-30 04:25:46 @MusicNegrito @UNITE => Positive Sentiment\n",
      "2019-05-30 04:21:12 Three hour delay bec => Negative Sentiment\n",
      "2019-05-30 03:53:09 #unitedairlines now  => Negative Sentiment\n",
      "2019-05-30 03:46:37 #UnitedAirlines #Boe => Positive Sentiment\n",
      "2019-05-30 03:20:26 @andrewtomamua @Unit => Negative Sentiment\n",
      "2019-05-30 01:40:22 My personal strategy => Negative Sentiment\n",
      "2019-05-30 01:31:31 RT @SNspotter53: An  => Positive Sentiment\n",
      "2019-05-30 01:23:49 RT @TwinadoeOne: I h => Negative Sentiment\n",
      "2019-05-30 01:23:00 An United 787 being  => Positive Sentiment\n",
      "2019-05-30 01:14:53 Parallel approach wi => Negative Sentiment\n",
      "2019-05-30 00:36:36 RT @zrs70: Another s => Positive Sentiment\n",
      "2019-05-29 23:40:07 @united UA2348 Stuck => Negative Sentiment\n",
      "2019-05-29 23:29:15 @ShannonBream Was it => Negative Sentiment\n",
      "2019-05-29 22:50:28 RT @justplanes: ✈️ B => Positive Sentiment\n",
      "2019-05-29 22:32:09 RT @justplanes: ✈️ B => Positive Sentiment\n",
      "2019-05-29 22:29:38 ✈️ Bad weather at Ne => Positive Sentiment\n",
      "2019-05-29 22:21:58 Some days... @united => Positive Sentiment\n",
      "2019-05-29 21:22:18 Good job @united thi => Negative Sentiment\n",
      "2019-05-29 21:16:31 RT @SNspotter53: An  => Positive Sentiment\n",
      "2019-05-29 21:15:00 An United A320 at Ga => Positive Sentiment\n",
      "2019-05-29 20:58:19 RT @DuoDiscoveries:  => Positive Sentiment\n",
      "2019-05-29 20:57:18 #unitedAIRLINES : I  => Negative Sentiment\n",
      "2019-05-29 20:51:49 RT @CaribbeanBlueBk: => Positive Sentiment\n",
      "2019-05-29 20:09:31 Check out United Air => Positive Sentiment\n",
      "2019-05-29 20:08:32 Hi there @united #Un => Positive Sentiment\n",
      "2019-05-29 17:24:36 RT @TwinadoeOne: I h => Negative Sentiment\n",
      "2019-05-29 17:20:50 I had the worst, mos => Negative Sentiment\n",
      "2019-05-29 16:12:15 RT @AkzoNobelUS: Blu => Positive Sentiment\n",
      "2019-05-29 16:01:59 $435* &amp; up -- Un => Positive Sentiment\n",
      "2019-05-29 15:58:09 Blue’s looking good  => Positive Sentiment\n",
      "2019-05-29 15:49:40 Love a good race.... => Positive Sentiment\n",
      "2019-05-29 15:38:09 @united Now delayed  => Negative Sentiment\n",
      "2019-05-29 15:33:40 Our Wisp weighted bl => Negative Sentiment\n",
      "2019-05-29 15:25:52 Hi @united I filed a => Negative Sentiment\n",
      "2019-05-29 15:20:13 RT @AkzoNobelUK: Blu => Positive Sentiment\n",
      "2019-05-29 14:46:49 RT @CaribbeanBlueBk: => Positive Sentiment\n",
      "2019-05-29 12:40:09 “Don’t find customer => Negative Sentiment\n",
      "2019-05-29 12:01:17 $897* &amp; up -- Fl => Positive Sentiment\n",
      "2019-05-29 11:52:30 RT @TammyLHServedio: => Positive Sentiment\n",
      "2019-05-29 11:13:36 Las Vegas we’re comi => Positive Sentiment\n",
      "2019-05-29 10:59:58 Blue’s looking good  => Positive Sentiment\n",
      "2019-05-29 10:59:48 Blue’s looking good  => Positive Sentiment\n",
      "2019-05-29 09:31:32 See ya, Newark! #EWR => Positive Sentiment\n",
      "2019-05-29 07:59:58 #unitedairlinesreser => Positive Sentiment\n",
      "2019-05-29 07:30:35 Just went above 900k => Positive Sentiment\n",
      "2019-05-29 06:32:34 @united \n",
      "@UNITEDA1RL => Negative Sentiment\n",
      "2019-05-29 06:18:04 @catnip0715 My paren => Negative Sentiment\n",
      "2019-05-29 04:16:09 @united delaying fli => Negative Sentiment\n",
      "2019-05-29 03:59:23 @united how is it th => Negative Sentiment\n",
      "2019-05-29 01:47:55 I want my refund fro => Negative Sentiment\n",
      "2019-05-29 01:37:25 The airline should l => Negative Sentiment\n",
      "2019-05-29 01:36:39 Our United agent tol => Negative Sentiment\n"
     ]
    },
    {
     "name": "stdout",
     "output_type": "stream",
     "text": [
      "2019-05-29 01:31:50 RT @SNspotter53: An  => Positive Sentiment\n",
      "2019-05-29 01:20:00 An United 737 taxiin => Positive Sentiment\n",
      "2019-05-29 01:00:57 RT @KrikorYeretzian: => Negative Sentiment\n",
      "2019-05-29 00:42:42 United and American  => Positive Sentiment\n",
      "2019-05-29 00:26:14 Never fly United Air => Negative Sentiment\n",
      "2019-05-29 00:25:44 @UNITEDA1RLINES \n",
      "#un => Negative Sentiment\n",
      "2019-05-29 00:22:25 19 airlines have cla => Negative Sentiment\n",
      "2019-05-29 00:21:42 #unitedAIRLINES what => Negative Sentiment\n",
      "2019-05-29 00:04:05 United Flight Return => Negative Sentiment\n",
      "2019-05-29 00:00:54 $897* &amp; up -- Fl => Positive Sentiment\n",
      "2019-05-28 23:48:23 The flight delay hap => Negative Sentiment\n",
      "2019-05-28 23:44:06 #unitedairlines know => Negative Sentiment\n",
      "2019-05-28 22:53:58 @united @united plea => Positive Sentiment\n",
      "2019-05-28 22:45:56 Been stuck on the ta => Negative Sentiment\n",
      "2019-05-28 21:17:34 I’m about to board a => Positive Sentiment\n",
      "2019-05-28 20:55:38 @united Hello again  => Positive Sentiment\n",
      "2019-05-28 20:41:15 #UnitedAirlines exte => Negative Sentiment\n",
      "2019-05-28 20:33:22 RT @CR_Aviation: WOR => Positive Sentiment\n",
      "2019-05-28 19:55:44 RT @BriskmanBinion:  => Positive Sentiment\n",
      "2019-05-28 19:28:38 @united On both flig => Positive Sentiment\n",
      "2019-05-28 19:01:09 $435* &amp; up -- Un => Positive Sentiment\n",
      "2019-05-28 18:06:44 #feeling #annoyed #u => Negative Sentiment\n",
      "2019-05-28 17:46:30 RT @SNspotter53: An  => Positive Sentiment\n",
      "2019-05-28 17:45:00 An United 787 being  => Positive Sentiment\n",
      "2019-05-28 17:14:40 Shortest time unit k => Negative Sentiment\n",
      "2019-05-28 17:08:33 Hey @united, a good  => Negative Sentiment\n"
     ]
    }
   ],
   "source": [
    "import tweepy\n",
    "import csv\n",
    "import pandas as pd\n",
    "####input your credentials here\n",
    "\n",
    "\n",
    "auth = tweepy.OAuthHandler(consumer_key, consumer_secret)\n",
    "auth.set_access_token(access_token, access_token_secret)\n",
    "api = tweepy.API(auth,wait_on_rate_limit=True)\n",
    "#####United Airlines\n",
    "# Open/Create a file to append data\n",
    "csvFile = open('ua.csv', 'a')\n",
    "#Use csv Writer\n",
    "csvWriter = csv.writer(csvFile)\n",
    "\n",
    "for tweet in tweepy.Cursor(api.search,q=\"#unitedAIRLINES\",count=100,\n",
    "                           lang=\"en\",\n",
    "                           since=\"2017-05-30\").items():\n",
    "    try:\n",
    "        predicted_sentiment = get_prediction(tweet.text)\n",
    "    except:\n",
    "        predicted_sentiment = ''\n",
    "    \n",
    "    print (tweet.created_at, tweet.text[0:20], \"=>\", predicted_sentiment)\n",
    "    csvWriter.writerow([tweet.created_at, tweet.text.encode('utf-8'), predicted_sentiment.encode('utf-8')])"
   ]
  },
  {
   "cell_type": "markdown",
   "metadata": {},
   "source": [
    "### Add Dropout Model - Possitive"
   ]
  },
  {
   "cell_type": "code",
   "execution_count": null,
   "metadata": {},
   "outputs": [],
   "source": [
    "import tweepy\n",
    "import csv\n",
    "import pandas as pd\n",
    "\n",
    "database = \"database.sqlite\"\n",
    "connection = sql.connect(database)\n",
    "query = '''SELECT * FROM Tweets'''\n",
    "df = pd.read_sql_query(query, connection)\n",
    "\n",
    "\n",
    "#One-hot encoding\n",
    "\n",
    "df['airline_sentiment'].replace('negative',0, inplace=True)\n",
    "df['airline_sentiment'].replace('neutral',0, inplace=True)\n",
    "df['airline_sentiment'].replace('positive',1, inplace=True)\n",
    "dataset = df.values # covert the pandas dataframe to numpy array\n",
    "\n",
    "\n",
    "\n",
    "validation_split_ratio = 0.8\n",
    "validation_split = int(round(validation_split_ratio*dataset.shape[0],0))\n",
    "\n",
    "X_train = dataset[0:validation_split,10]\n",
    "X_train_vec = tfidfvectorizer.fit_transform(X_train)\n",
    "\n",
    "X_validation = dataset[validation_split:,10]\n",
    "X_validation_vec = tfidfvectorizer.transform(X_validation)\n",
    "\n",
    "Y_train = dataset[0:validation_split,1]\n",
    "Y_validation = dataset[validation_split:,1]\n",
    "NUM_WORDS = X_train_vec.shape[1]\n",
    "# print(NUM_WORDS) #number of words in the dictionary\n",
    "\n",
    "\n",
    "\n",
    "dpt_model_pos = keras.models.Sequential([\n",
    "    keras.layers.Dense(16, activation=tf.nn.relu, input_shape=(NUM_WORDS,)), #NUM_WORDS = 12766\n",
    "    keras.layers.Dropout(0.5),\n",
    "    keras.layers.Dense(32, activation=tf.nn.relu),\n",
    "    keras.layers.Dropout(0.5),\n",
    "    keras.layers.Dense(1, activation=tf.nn.sigmoid)\n",
    "])\n",
    "\n",
    "dpt_model_pos.compile(optimizer='adam',\n",
    "                  loss='binary_crossentropy',\n",
    "                  metrics=['accuracy','binary_crossentropy'])\n",
    "\n",
    "print(X_train_vec.shape)\n",
    "dpt_model_pos_history = dpt_model_pos.fit(X_train_vec, Y_train,\n",
    "                                  epochs=20,\n",
    "                                  batch_size=512,\n",
    "                                  validation_data=(X_validation_vec, Y_validation),\n",
    "                                  verbose=2)\n",
    "dpt_model_pos.save('usat_dpt_pos.model')   #HDF5 format\n"
   ]
  },
  {
   "cell_type": "code",
   "execution_count": null,
   "metadata": {},
   "outputs": [],
   "source": [
    "# evaluate the dpt_model model\n",
    "scores_dpt_pos = dpt_model_pos.evaluate(X_validation_vec, Y_validation)\n",
    "print(\"\\n{}: {:.2f}\".format(dpt_model_pos.metrics_names[1], \n",
    "                            scores_dpt_pos[1]*100))\n"
   ]
  },
  {
   "cell_type": "code",
   "execution_count": null,
   "metadata": {},
   "outputs": [],
   "source": [
    "plot_accuracy([('Negativeness', dpt_model_history),\n",
    "              ('Positiveness', dpt_model_pos_history)])\n"
   ]
  },
  {
   "cell_type": "code",
   "execution_count": null,
   "metadata": {},
   "outputs": [],
   "source": [
    "# code18\n",
    "def get_prediction_pos(comment):\n",
    "\n",
    "    \n",
    "    from keras.models import load_model  # to load saved model\n",
    "    new_dpt_model = load_model('usat_dpt_pos.model')\n",
    "\n",
    "    X_test =  [comment]\n",
    "    X_test_vec = tfidfvectorizer.transform(X_test)\n",
    "    prediction = new_dpt_model.predict(X_test_vec)\n",
    "#     print('prediction_pos = ',0)\n",
    "#     return prediction\n",
    "    if round(prediction[0][0]) == 0:\n",
    "        return \"Negative Sentiment\"\n",
    "    else:\n",
    "        return \"Positive Sentiment\"\n"
   ]
  },
  {
   "cell_type": "code",
   "execution_count": null,
   "metadata": {},
   "outputs": [],
   "source": [
    "get_prediction_pos(\"good\")"
   ]
  },
  {
   "cell_type": "code",
   "execution_count": null,
   "metadata": {},
   "outputs": [],
   "source": [
    "def get_prediction_final(comment):\n",
    "    foo = get_prediction(comment) + get_prediction_pos(comment)\n",
    "    if foo == 0:\n",
    "        return \"Negative\"\n",
    "    elif foo == 1:\n",
    "        return \"Neutral\"\n",
    "    elif foo == 2:\n",
    "        return \"Positive\"\n",
    "    else:\n",
    "        return foo\n",
    "\n"
   ]
  },
  {
   "cell_type": "code",
   "execution_count": null,
   "metadata": {},
   "outputs": [],
   "source": []
  },
  {
   "cell_type": "markdown",
   "metadata": {},
   "source": [
    "# Testing Set: Live Demo v1.0\n"
   ]
  },
  {
   "cell_type": "markdown",
   "metadata": {},
   "source": [
    "![title](ISOM5240_channel.png)\n",
    "https://twitter.com/search?q=%23ISOM5240&src=typd&lang=en![image.png](attachment:image.png)"
   ]
  },
  {
   "cell_type": "code",
   "execution_count": null,
   "metadata": {},
   "outputs": [],
   "source": [
    "# code20\n",
    "# import tweepy\n",
    "import csv\n",
    "import pandas as pd\n",
    "import tweepy\n",
    "\n",
    "\n",
    "auth = tweepy.OAuthHandler(consumer_key, consumer_secret)\n",
    "auth.set_access_token(access_token, access_token_secret)\n",
    "api = tweepy.API(auth,wait_on_rate_limit=True)\n",
    "\n",
    "csvFile = open('ua.csv', 'a') # Open/Create a file to append data\n",
    "csvWriter = csv.writer(csvFile) #Use csv Writer\n",
    "\n",
    "ctr = 1\n",
    "for tweet in tweepy.Cursor(api.search,q=\"#ISOM5240\",count=5,\n",
    "                           lang=\"en\",\n",
    "                           since=\"2017-04-03\").items():\n",
    "    text_to_predict = tweet.text.replace('#ISOM5240', '')\n",
    "    try: \n",
    "        sentiment_predicted = get_prediction_pos(text_to_predict)\n",
    "    except: \n",
    "        sentiment_predicted = \"\"\n",
    "    \n",
    "    print(ctr, \" \", tweet.created_at, tweet.user.screen_name,\":\", text_to_predict, '=>',sentiment_predicted)\n",
    "    #     print (ctr, \" \", tweet.created_at, tweet.user.screen_name, tweet.text, get_prediction(tweet.text).replace('#ISOM5240', ''))\n",
    "    ctr += 1\n",
    "    \n",
    "    csvWriter.writerow([tweet.created_at, tweet.text.encode('utf-8')])"
   ]
  },
  {
   "cell_type": "markdown",
   "metadata": {},
   "source": [
    "![title](ISOM5240_channel.png)\n",
    "https://twitter.com/search?q=%23ISOM5240&src=typd&lang=en![image.png](attachment:image.png)"
   ]
  }
 ],
 "metadata": {
  "kernelspec": {
   "display_name": "Python 3",
   "language": "python",
   "name": "python3"
  },
  "language_info": {
   "codemirror_mode": {
    "name": "ipython",
    "version": 3
   },
   "file_extension": ".py",
   "mimetype": "text/x-python",
   "name": "python",
   "nbconvert_exporter": "python",
   "pygments_lexer": "ipython3",
   "version": "3.7.0"
  }
 },
 "nbformat": 4,
 "nbformat_minor": 2
}
